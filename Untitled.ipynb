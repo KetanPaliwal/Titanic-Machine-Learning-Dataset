{
 "cells": [
  {
   "cell_type": "code",
   "execution_count": 1,
   "id": "48400baf",
   "metadata": {},
   "outputs": [],
   "source": [
    "import numpy as np\n",
    "import pandas as pd\n",
    "\n",
    "import matplotlib.pyplot as plt\n",
    "import seaborn as sns"
   ]
  },
  {
   "cell_type": "markdown",
   "id": "82f2bffc",
   "metadata": {},
   "source": [
    "# Reading Data From CSV"
   ]
  },
  {
   "cell_type": "code",
   "execution_count": 2,
   "id": "9b6f9fad",
   "metadata": {},
   "outputs": [],
   "source": [
    "train = pd.read_csv('train.csv')\n",
    "test = pd.read_csv('test.csv')"
   ]
  },
  {
   "cell_type": "code",
   "execution_count": 3,
   "id": "96ca8115",
   "metadata": {},
   "outputs": [
    {
     "name": "stdout",
     "output_type": "stream",
     "text": [
      "<class 'pandas.core.frame.DataFrame'>\n",
      "RangeIndex: 891 entries, 0 to 890\n",
      "Data columns (total 12 columns):\n",
      " #   Column       Non-Null Count  Dtype  \n",
      "---  ------       --------------  -----  \n",
      " 0   PassengerId  891 non-null    int64  \n",
      " 1   Survived     891 non-null    int64  \n",
      " 2   Pclass       891 non-null    int64  \n",
      " 3   Name         891 non-null    object \n",
      " 4   Sex          891 non-null    object \n",
      " 5   Age          714 non-null    float64\n",
      " 6   SibSp        891 non-null    int64  \n",
      " 7   Parch        891 non-null    int64  \n",
      " 8   Ticket       891 non-null    object \n",
      " 9   Fare         891 non-null    float64\n",
      " 10  Cabin        204 non-null    object \n",
      " 11  Embarked     889 non-null    object \n",
      "dtypes: float64(2), int64(5), object(5)\n",
      "memory usage: 83.7+ KB\n"
     ]
    }
   ],
   "source": [
    "train.info()"
   ]
  },
  {
   "cell_type": "code",
   "execution_count": 4,
   "id": "2a7eaec2",
   "metadata": {},
   "outputs": [
    {
     "name": "stdout",
     "output_type": "stream",
     "text": [
      "<class 'pandas.core.frame.DataFrame'>\n",
      "RangeIndex: 418 entries, 0 to 417\n",
      "Data columns (total 11 columns):\n",
      " #   Column       Non-Null Count  Dtype  \n",
      "---  ------       --------------  -----  \n",
      " 0   PassengerId  418 non-null    int64  \n",
      " 1   Pclass       418 non-null    int64  \n",
      " 2   Name         418 non-null    object \n",
      " 3   Sex          418 non-null    object \n",
      " 4   Age          332 non-null    float64\n",
      " 5   SibSp        418 non-null    int64  \n",
      " 6   Parch        418 non-null    int64  \n",
      " 7   Ticket       418 non-null    object \n",
      " 8   Fare         417 non-null    float64\n",
      " 9   Cabin        91 non-null     object \n",
      " 10  Embarked     418 non-null    object \n",
      "dtypes: float64(2), int64(4), object(5)\n",
      "memory usage: 36.0+ KB\n"
     ]
    }
   ],
   "source": [
    "test.info()"
   ]
  },
  {
   "cell_type": "markdown",
   "id": "7039e7d5",
   "metadata": {},
   "source": [
    "# Plotting to discover features of training data"
   ]
  },
  {
   "cell_type": "markdown",
   "id": "f942bd7b",
   "metadata": {},
   "source": [
    "## Categorical Features"
   ]
  },
  {
   "cell_type": "code",
   "execution_count": 5,
   "id": "c0222d16",
   "metadata": {},
   "outputs": [
    {
     "data": {
      "image/png": "[encoded data removed]",
      "text/plain": [
       "<Figure size 432x288 with 1 Axes>"
      ]
     },
     "metadata": {
      "needs_background": "light"
     },
     "output_type": "display_data"
    }
   ],
   "source": [
    "sns.countplot(data=train, x='Pclass').set(title='Pclass Analysis')\n",
    "plt.show()"
   ]
  },
  {
   "cell_type": "code",
   "execution_count": 6,
   "id": "81ec8948",
   "metadata": {},
   "outputs": [
    {
     "data": {
      "image/png": "[encoded data removed]",
      "text/plain": [
       "<Figure size 432x288 with 1 Axes>"
      ]
     },
     "metadata": {
      "needs_background": "light"
     },
     "output_type": "display_data"
    }
   ],
   "source": [
    "sns.countplot(data=train, x='Pclass', hue='Survived').set(title='Pclass vs Survived')\n",
    "plt.show()"
   ]
  },
  {
   "cell_type": "markdown",
   "id": "3ae58f84",
   "metadata": {},
   "source": [
    "Pclass has some correlation with survival.\n",
    "\n",
    "Pclass 1 & 2 passengers have more survival chance than Pclass 3 passengers."
   ]
  },
  {
   "cell_type": "code",
   "execution_count": 7,
   "id": "d6c078eb",
   "metadata": {},
   "outputs": [
    {
     "data": {
      "image/png": "[encoded data removed]",
      "text/plain": [
       "<Figure size 432x288 with 1 Axes>"
      ]
     },
     "metadata": {
      "needs_background": "light"
     },
     "output_type": "display_data"
    }
   ],
   "source": [
    "sns.countplot(data=train, x='Sex').set(title='Sex Analysis')\n",
    "plt.show()"
   ]
  },
  {
   "cell_type": "code",
   "execution_count": 8,
   "id": "8603309a",
   "metadata": {},
   "outputs": [
    {
     "data": {
      "image/png": "[encoded data removed]",
      "text/plain": [
       "<Figure size 432x288 with 1 Axes>"
      ]
     },
     "metadata": {
      "needs_background": "light"
     },
     "output_type": "display_data"
    }
   ],
   "source": [
    "sns.countplot(data=train, x='Sex', hue='Survived').set(title='Sex vs Survived')\n",
    "plt.show()"
   ]
  },
  {
   "cell_type": "markdown",
   "id": "746e6142",
   "metadata": {},
   "source": [
    "Sex has a high correlation with survival.\n",
    "\n",
    "Females are more likely to survive than males."
   ]
  },
  {
   "cell_type": "code",
   "execution_count": 9,
   "id": "35172ddc",
   "metadata": {},
   "outputs": [
    {
     "data": {
      "image/png": "[encoded data removed]",
      "text/plain": [
       "<Figure size 432x288 with 1 Axes>"
      ]
     },
     "metadata": {
      "needs_background": "light"
     },
     "output_type": "display_data"
    }
   ],
   "source": [
    "sns.countplot(data=train, x='Embarked').set(title='Embarked Analysis')\n",
    "plt.show()"
   ]
  },
  {
   "cell_type": "code",
   "execution_count": 10,
   "id": "bb32b79e",
   "metadata": {},
   "outputs": [
    {
     "data": {
      "image/png": "[encoded data removed]",
      "text/plain": [
       "<Figure size 432x288 with 1 Axes>"
      ]
     },
     "metadata": {
      "needs_background": "light"
     },
     "output_type": "display_data"
    }
   ],
   "source": [
    "sns.countplot(data=train, x='Embarked', hue='Survived').set(title='Embarked vs Survived')\n",
    "plt.show()"
   ]
  },
  {
   "cell_type": "markdown",
   "id": "77a45e62",
   "metadata": {},
   "source": [
    "Embarked has some correlation with Survival.\n",
    "\n",
    " Cherbourg and Queenstown bound passengers have more survival chance than Southampton bound passengers."
   ]
  },
  {
   "cell_type": "code",
   "execution_count": 11,
   "id": "695fb60c",
   "metadata": {},
   "outputs": [
    {
     "data": {
      "image/png": "[encoded data removed]",
      "text/plain": [
       "<Figure size 432x288 with 1 Axes>"
      ]
     },
     "metadata": {
      "needs_background": "light"
     },
     "output_type": "display_data"
    }
   ],
   "source": [
    "sns.countplot(data=train, x='SibSp').set(title='SibSp Analysis')\n",
    "plt.show()"
   ]
  },
  {
   "cell_type": "code",
   "execution_count": 12,
   "id": "6ac334f3",
   "metadata": {},
   "outputs": [
    {
     "data": {
      "image/png": "[encoded data removed]",
      "text/plain": [
       "<Figure size 432x288 with 1 Axes>"
      ]
     },
     "metadata": {
      "needs_background": "light"
     },
     "output_type": "display_data"
    }
   ],
   "source": [
    "sns.countplot(data=train, x='SibSp', hue='Survived').set(title='SibSp vs Survived')\n",
    "plt.show()"
   ]
  },
  {
   "cell_type": "markdown",
   "id": "87544ed0",
   "metadata": {},
   "source": [
    "Sibsp has some correlation with survival.\n",
    "\n",
    "Having less number of Siblings/Spouse onboard increases the survival chance. Having no Siblings/Spouse is a different story."
   ]
  },
  {
   "cell_type": "code",
   "execution_count": 13,
   "id": "4fdf9884",
   "metadata": {},
   "outputs": [
    {
     "data": {
      "image/png": "[encoded data removed]",
      "text/plain": [
       "<Figure size 432x288 with 1 Axes>"
      ]
     },
     "metadata": {
      "needs_background": "light"
     },
     "output_type": "display_data"
    }
   ],
   "source": [
    "sns.countplot(data=train, x='Parch').set(title='Parch Analysis')\n",
    "plt.show()"
   ]
  },
  {
   "cell_type": "code",
   "execution_count": 14,
   "id": "2e783fe8",
   "metadata": {},
   "outputs": [
    {
     "data": {
      "image/png": "[encoded data removed]",
      "text/plain": [
       "<Figure size 432x288 with 1 Axes>"
      ]
     },
     "metadata": {
      "needs_background": "light"
     },
     "output_type": "display_data"
    }
   ],
   "source": [
    "sns.countplot(data=train, x='Parch', hue='Survived').set(title='Parch vs Survived')\n",
    "plt.show()"
   ]
  },
  {
   "cell_type": "markdown",
   "id": "45adcf11",
   "metadata": {},
   "source": [
    "Parch has some correlation with survival. (Almost like SibSp)"
   ]
  },
  {
   "cell_type": "markdown",
   "id": "3ca7efc9",
   "metadata": {},
   "source": [
    "## Numerical Features"
   ]
  },
  {
   "cell_type": "code",
   "execution_count": 15,
   "id": "66ad076e",
   "metadata": {},
   "outputs": [
    {
     "data": {
      "image/png": "[encoded data removed]",
      "text/plain": [
       "<Figure size 432x288 with 1 Axes>"
      ]
     },
     "metadata": {
      "needs_background": "light"
     },
     "output_type": "display_data"
    }
   ],
   "source": [
    "sns.boxplot(data=train, x='Age').set(title='Age Distribution')\n",
    "plt.show()"
   ]
  },
  {
   "cell_type": "markdown",
   "id": "e6c0c016",
   "metadata": {},
   "source": [
    "Age is symmetrically distributed for most of the part"
   ]
  },
  {
   "cell_type": "code",
   "execution_count": 16,
   "id": "35d98706",
   "metadata": {},
   "outputs": [
    {
     "data": {
      "image/png": "[encoded data removed]",
      "text/plain": [
       "<Figure size 360x360 with 1 Axes>"
      ]
     },
     "metadata": {
      "needs_background": "light"
     },
     "output_type": "display_data"
    },
    {
     "data": {
      "image/png": "[encoded data removed]",
      "text/plain": [
       "<Figure size 411.875x360 with 1 Axes>"
      ]
     },
     "metadata": {
      "needs_background": "light"
     },
     "output_type": "display_data"
    },
    {
     "data": {
      "image/png": "[encoded data removed]",
      "text/plain": [
       "<Figure size 771.875x360 with 2 Axes>"
      ]
     },
     "metadata": {
      "needs_background": "light"
     },
     "output_type": "display_data"
    }
   ],
   "source": [
    "sns.displot(data=train, x='Age').set(title='Age Analysis')\n",
    "sns.displot(data=train, x='Age', hue='Survived').set(title='Age vs Survived')\n",
    "sns.displot(data=train, x='Age', col='Survived', hue='Survived')\n",
    "plt.show()"
   ]
  },
  {
   "cell_type": "markdown",
   "id": "b5eaf7be",
   "metadata": {},
   "source": [
    "Elders and Children have more survival chances"
   ]
  },
  {
   "cell_type": "code",
   "execution_count": 17,
   "id": "6605414b",
   "metadata": {},
   "outputs": [
    {
     "data": {
      "image/png": "[encoded data removed]",
      "text/plain": [
       "<Figure size 432x288 with 1 Axes>"
      ]
     },
     "metadata": {
      "needs_background": "light"
     },
     "output_type": "display_data"
    }
   ],
   "source": [
    "sns.boxplot(data=train, x='Fare').set(title='Fare Distribution')\n",
    "plt.show()"
   ]
  },
  {
   "cell_type": "markdown",
   "id": "fdd53f45",
   "metadata": {},
   "source": [
    "Fare is right skewed in terms of distribution"
   ]
  },
  {
   "cell_type": "code",
   "execution_count": 18,
   "id": "cb829d11",
   "metadata": {},
   "outputs": [
    {
     "data": {
      "image/png": "[encoded data removed]",
      "text/plain": [
       "<Figure size 360x360 with 1 Axes>"
      ]
     },
     "metadata": {
      "needs_background": "light"
     },
     "output_type": "display_data"
    },
    {
     "data": {
      "image/png": "[encoded data removed]",
      "text/plain": [
       "<Figure size 411.875x360 with 1 Axes>"
      ]
     },
     "metadata": {
      "needs_background": "light"
     },
     "output_type": "display_data"
    },
    {
     "data": {
      "image/png": "[encoded data removed]",
      "text/plain": [
       "<Figure size 771.875x360 with 2 Axes>"
      ]
     },
     "metadata": {
      "needs_background": "light"
     },
     "output_type": "display_data"
    }
   ],
   "source": [
    "sns.displot(data=train, x='Fare').set(title='Fare Analysis')\n",
    "sns.displot(data=train, x='Fare', hue='Survived').set(title='Fare vs Survived')\n",
    "sns.displot(data=train, x='Fare', col='Survived', hue='Survived')\n",
    "plt.show()"
   ]
  },
  {
   "cell_type": "markdown",
   "id": "ac0d7086",
   "metadata": {},
   "source": [
    "Passengers who paid higher Fare are more likely to survive"
   ]
  },
  {
   "cell_type": "markdown",
   "id": "13402392",
   "metadata": {},
   "source": [
    "# Imputation"
   ]
  },
  {
   "cell_type": "code",
   "execution_count": 19,
   "id": "38633682",
   "metadata": {},
   "outputs": [],
   "source": [
    "# Age is symmetrically distributed so we can use mean imputation\n",
    "def AgeImp(data):\n",
    "    data.Age.fillna(data.Age.mean(), inplace=True)\n",
    "    return data\n",
    "\n",
    "# Fare is right skewed so we have to use median imputation\n",
    "def FareImp(data):\n",
    "    data.Fare.fillna(data.Fare.median(), inplace=True)\n",
    "    return data\n",
    "\n",
    "# All imputations applied here\n",
    "def Imp(data):\n",
    "    data = AgeImp(data)\n",
    "    data = FareImp(data)\n",
    "    return data"
   ]
  },
  {
   "cell_type": "code",
   "execution_count": 20,
   "id": "648a4df5",
   "metadata": {},
   "outputs": [
    {
     "name": "stdout",
     "output_type": "stream",
     "text": [
      "<class 'pandas.core.frame.DataFrame'>\n",
      "RangeIndex: 891 entries, 0 to 890\n",
      "Data columns (total 12 columns):\n",
      " #   Column       Non-Null Count  Dtype  \n",
      "---  ------       --------------  -----  \n",
      " 0   PassengerId  891 non-null    int64  \n",
      " 1   Survived     891 non-null    int64  \n",
      " 2   Pclass       891 non-null    int64  \n",
      " 3   Name         891 non-null    object \n",
      " 4   Sex          891 non-null    object \n",
      " 5   Age          891 non-null    float64\n",
      " 6   SibSp        891 non-null    int64  \n",
      " 7   Parch        891 non-null    int64  \n",
      " 8   Ticket       891 non-null    object \n",
      " 9   Fare         891 non-null    float64\n",
      " 10  Cabin        204 non-null    object \n",
      " 11  Embarked     889 non-null    object \n",
      "dtypes: float64(2), int64(5), object(5)\n",
      "memory usage: 83.7+ KB\n"
     ]
    }
   ],
   "source": [
    "train = Imp(train)\n",
    "train.info()"
   ]
  },
  {
   "cell_type": "code",
   "execution_count": 21,
   "id": "4c57978a",
   "metadata": {},
   "outputs": [
    {
     "name": "stdout",
     "output_type": "stream",
     "text": [
      "<class 'pandas.core.frame.DataFrame'>\n",
      "RangeIndex: 418 entries, 0 to 417\n",
      "Data columns (total 11 columns):\n",
      " #   Column       Non-Null Count  Dtype  \n",
      "---  ------       --------------  -----  \n",
      " 0   PassengerId  418 non-null    int64  \n",
      " 1   Pclass       418 non-null    int64  \n",
      " 2   Name         418 non-null    object \n",
      " 3   Sex          418 non-null    object \n",
      " 4   Age          418 non-null    float64\n",
      " 5   SibSp        418 non-null    int64  \n",
      " 6   Parch        418 non-null    int64  \n",
      " 7   Ticket       418 non-null    object \n",
      " 8   Fare         418 non-null    float64\n",
      " 9   Cabin        91 non-null     object \n",
      " 10  Embarked     418 non-null    object \n",
      "dtypes: float64(2), int64(4), object(5)\n",
      "memory usage: 36.0+ KB\n"
     ]
    }
   ],
   "source": [
    "test = Imp(test)\n",
    "test.info()"
   ]
  },
  {
   "cell_type": "markdown",
   "id": "229070ce",
   "metadata": {},
   "source": [
    "# Feature Engineering"
   ]
  },
  {
   "cell_type": "markdown",
   "id": "9eaf24df",
   "metadata": {},
   "source": [
    "## FamilySize\n",
    "\n",
    "On adding the number of parents/children (Parch) and siblings/spouse (SibSp) we get the total family size of a passenger.\n",
    "\n",
    "This might have some effect on the survival as it is logically difficult to survive with a large family."
   ]
  },
  {
   "cell_type": "code",
   "execution_count": 22,
   "id": "1104e1ab",
   "metadata": {},
   "outputs": [],
   "source": [
    "def setFamilySize(data):\n",
    "    data['FamilySize'] = data['SibSp'] + data['Parch']\n",
    "    return data"
   ]
  },
  {
   "cell_type": "code",
   "execution_count": 23,
   "id": "a701ef3b",
   "metadata": {},
   "outputs": [],
   "source": [
    "train = setFamilySize(train)\n",
    "test = setFamilySize(test)"
   ]
  },
  {
   "cell_type": "code",
   "execution_count": 24,
   "id": "ec35b4cc",
   "metadata": {},
   "outputs": [
    {
     "data": {
      "image/png": "[encoded data removed]",
      "text/plain": [
       "<Figure size 432x288 with 1 Axes>"
      ]
     },
     "metadata": {
      "needs_background": "light"
     },
     "output_type": "display_data"
    }
   ],
   "source": [
    "sns.countplot(data=train, x='FamilySize').set(title='FamilySize Analysis')\n",
    "plt.show()"
   ]
  },
  {
   "cell_type": "code",
   "execution_count": 25,
   "id": "9eee697b",
   "metadata": {},
   "outputs": [
    {
     "data": {
      "image/png": "[encoded data removed]",
      "text/plain": [
       "<Figure size 432x288 with 1 Axes>"
      ]
     },
     "metadata": {
      "needs_background": "light"
     },
     "output_type": "display_data"
    }
   ],
   "source": [
    "sns.countplot(data=train, x='FamilySize', hue='Survived').set(title='FamilySize vs Survived')\n",
    "plt.show()"
   ]
  },
  {
   "cell_type": "markdown",
   "id": "a3a20055",
   "metadata": {},
   "source": [
    "Apart from solo-travellers, survival rate roughly decreases with increase in family size.\n",
    "\n",
    "This also brings us to another undiscovered feature."
   ]
  },
  {
   "cell_type": "markdown",
   "id": "a46410a1",
   "metadata": {},
   "source": [
    "## SoloTravel\n",
    "\n",
    "Solo travelling highly decreases the survival chance for passengers as shown above."
   ]
  },
  {
   "cell_type": "code",
   "execution_count": 26,
   "id": "07072947",
   "metadata": {},
   "outputs": [],
   "source": [
    "def setSoloTravel(data):\n",
    "    data['SoloTravel'] = data['FamilySize'].apply(lambda x: 1 if x==0 else 0)\n",
    "    return data"
   ]
  },
  {
   "cell_type": "code",
   "execution_count": 27,
   "id": "26465de5",
   "metadata": {},
   "outputs": [],
   "source": [
    "train = setSoloTravel(train)\n",
    "test = setSoloTravel(test)"
   ]
  },
  {
   "cell_type": "code",
   "execution_count": 28,
   "id": "125030aa",
   "metadata": {},
   "outputs": [
    {
     "data": {
      "image/png": "[encoded data removed]",
      "text/plain": [
       "<Figure size 432x288 with 1 Axes>"
      ]
     },
     "metadata": {
      "needs_background": "light"
     },
     "output_type": "display_data"
    }
   ],
   "source": [
    "sns.countplot(data=train, x='SoloTravel').set(title='SoloTravel Analysis')\n",
    "plt.show()"
   ]
  },
  {
   "cell_type": "code",
   "execution_count": 29,
   "id": "847c1afa",
   "metadata": {},
   "outputs": [
    {
     "data": {
      "image/png": "[encoded data removed]",
      "text/plain": [
       "<Figure size 432x288 with 1 Axes>"
      ]
     },
     "metadata": {
      "needs_background": "light"
     },
     "output_type": "display_data"
    }
   ],
   "source": [
    "sns.countplot(data=train, x='SoloTravel', hue='Survived').set(title='SoloTravel Analysis')\n",
    "plt.show()"
   ]
  },
  {
   "cell_type": "markdown",
   "id": "d272e28d",
   "metadata": {},
   "source": [
    "SoloTravel shows high correlation with survival of passenger"
   ]
  },
  {
   "cell_type": "markdown",
   "id": "03bd6478",
   "metadata": {},
   "source": [
    "## NameTitle (Rejected)\n",
    "\n",
    "Name column includes full name of a passenger with title included. We can extract the title from there to bolster our prediction model."
   ]
  },
  {
   "cell_type": "code",
   "execution_count": 30,
   "id": "0aaf0391",
   "metadata": {},
   "outputs": [],
   "source": [
    "def setNameTitle(data):\n",
    "    data['NameTitle'] = data['Name'].apply(lambda x: x.split(',')[1].split('.')[0])\n",
    "    return data"
   ]
  },
  {
   "cell_type": "code",
   "execution_count": 31,
   "id": "20fe7e85",
   "metadata": {},
   "outputs": [],
   "source": [
    "train = setNameTitle(train)\n",
    "test = setNameTitle(test)"
   ]
  },
  {
   "cell_type": "code",
   "execution_count": 32,
   "id": "50686a3b",
   "metadata": {},
   "outputs": [
    {
     "data": {
      "image/png": "[encoded data removed]",
      "text/plain": [
       "<Figure size 432x288 with 1 Axes>"
      ]
     },
     "metadata": {
      "needs_background": "light"
     },
     "output_type": "display_data"
    }
   ],
   "source": [
    "sns.countplot(data=train, y='NameTitle').set(title='NameTitle Analysis')\n",
    "plt.show()"
   ]
  },
  {
   "cell_type": "code",
   "execution_count": 33,
   "id": "ff806644",
   "metadata": {},
   "outputs": [
    {
     "data": {
      "image/png": "[encoded data removed]",
      "text/plain": [
       "<Figure size 432x288 with 1 Axes>"
      ]
     },
     "metadata": {
      "needs_background": "light"
     },
     "output_type": "display_data"
    }
   ],
   "source": [
    "sns.countplot(data=train, y='NameTitle', hue='Survived').set(title='NameTitle Analysis')\n",
    "plt.show()"
   ]
  },
  {
   "cell_type": "markdown",
   "id": "b1d8cc5d",
   "metadata": {},
   "source": [
    "There are some minor corelations between NameTitle and Survived columns but remains obscure for most of the name titles.\n",
    "\n",
    "Most of the titles representing females or children(For eg- Mrs, Master, etc.) have more survival chance than others.\n",
    "\n",
    "This analysis corroborating better survival rate for children gives rise to another undiscovered feature."
   ]
  },
  {
   "cell_type": "markdown",
   "id": "31886385",
   "metadata": {},
   "source": [
    "## AgeBucket\n",
    "\n",
    "Apart from Age column which consists of numerical data, we are going to classify these ages into age buckets of child, teenager, adult, elder.\n",
    "\n",
    "Age bucket categories will be divided by referencing Age vs Survived plot for better prediction results."
   ]
  },
  {
   "cell_type": "code",
   "execution_count": 34,
   "id": "10bf84f4",
   "metadata": {},
   "outputs": [],
   "source": [
    "def bucketrule(x):\n",
    "    if(x<=18):\n",
    "        return 'Child'\n",
    "    elif(x>65):\n",
    "        return 'Elder'\n",
    "    else:\n",
    "        return 'Adult'\n",
    "\n",
    "def setAgeBucket(data):\n",
    "    data['AgeBucket'] = data['Age'].apply(lambda x: bucketrule(x))\n",
    "    return data"
   ]
  },
  {
   "cell_type": "code",
   "execution_count": 35,
   "id": "e1b240b5",
   "metadata": {},
   "outputs": [],
   "source": [
    "train = setAgeBucket(train)\n",
    "test = setAgeBucket(test)"
   ]
  },
  {
   "cell_type": "code",
   "execution_count": 36,
   "id": "2f6fdbba",
   "metadata": {},
   "outputs": [
    {
     "data": {
      "image/png": "[encoded data removed]",
      "text/plain": [
       "<Figure size 432x288 with 1 Axes>"
      ]
     },
     "metadata": {
      "needs_background": "light"
     },
     "output_type": "display_data"
    }
   ],
   "source": [
    "sns.countplot(data=train, x='AgeBucket').set(title='AgeBucket Analysis')\n",
    "plt.show()"
   ]
  },
  {
   "cell_type": "code",
   "execution_count": 37,
   "id": "99e9dc75",
   "metadata": {},
   "outputs": [
    {
     "data": {
      "image/png": "[encoded data removed]",
      "text/plain": [
       "<Figure size 432x288 with 1 Axes>"
      ]
     },
     "metadata": {
      "needs_background": "light"
     },
     "output_type": "display_data"
    }
   ],
   "source": [
    "sns.countplot(data=train, x='AgeBucket', hue='Survived').set(title='AgeBucket Analysis')\n",
    "plt.show()"
   ]
  },
  {
   "cell_type": "markdown",
   "id": "6431b30d",
   "metadata": {},
   "source": [
    "As expected survival rate differs for each age bucket"
   ]
  },
  {
   "cell_type": "markdown",
   "id": "853621ce",
   "metadata": {},
   "source": [
    "## CabinCount\n",
    "\n",
    "Cabin and Ticket are the most obscure data columns out of all. We have to start extracting some meaningful data from them to corroborate our prediction model.\n",
    "\n",
    "Cabin count is our safest bet to extract some meaningful data which will enhance our predictions."
   ]
  },
  {
   "cell_type": "code",
   "execution_count": 38,
   "id": "1d4a798b",
   "metadata": {},
   "outputs": [],
   "source": [
    "def setCabinCount(data):\n",
    "    data['CabinCount'] = data['Cabin'].apply(lambda x: 0 if pd.isna(x) else len(x.split()))\n",
    "    return data"
   ]
  },
  {
   "cell_type": "code",
   "execution_count": 39,
   "id": "f4ea4512",
   "metadata": {},
   "outputs": [],
   "source": [
    "train = setCabinCount(train)\n",
    "test = setCabinCount(test)"
   ]
  },
  {
   "cell_type": "code",
   "execution_count": 40,
   "id": "26cd3791",
   "metadata": {},
   "outputs": [
    {
     "data": {
      "image/png": "[encoded data removed]",
      "text/plain": [
       "<Figure size 432x288 with 1 Axes>"
      ]
     },
     "metadata": {
      "needs_background": "light"
     },
     "output_type": "display_data"
    }
   ],
   "source": [
    "sns.countplot(data=train, y='CabinCount').set(title='CabinCount Analysis')\n",
    "plt.show()"
   ]
  },
  {
   "cell_type": "code",
   "execution_count": 41,
   "id": "e02b4e29",
   "metadata": {},
   "outputs": [
    {
     "data": {
      "image/png": "[encoded data removed]",
      "text/plain": [
       "<Figure size 432x288 with 1 Axes>"
      ]
     },
     "metadata": {
      "needs_background": "light"
     },
     "output_type": "display_data"
    }
   ],
   "source": [
    "sns.countplot(data=train, y='CabinCount', hue='Survived').set(title='CabinCount Analysis')\n",
    "plt.show()"
   ]
  },
  {
   "cell_type": "markdown",
   "id": "ef08fdb5",
   "metadata": {},
   "source": [
    "Passengers with cabin are clearly more likely to survive that those without one."
   ]
  },
  {
   "cell_type": "markdown",
   "id": "54e8dace",
   "metadata": {},
   "source": [
    "## CabinCode (Rejected)\n",
    "\n",
    "Cabin code is the starting series of a cabin number. It can show corelation between same cabin series passenger's chances of survival."
   ]
  },
  {
   "cell_type": "code",
   "execution_count": 42,
   "id": "4ccad125",
   "metadata": {},
   "outputs": [],
   "source": [
    "def setCabinCode(data):\n",
    "    data['CabinCode'] = data['Cabin'].apply(lambda x: 'N/A' if pd.isna(x) else x[0])\n",
    "    return data"
   ]
  },
  {
   "cell_type": "code",
   "execution_count": 43,
   "id": "c7b80aed",
   "metadata": {},
   "outputs": [],
   "source": [
    "train = setCabinCode(train)\n",
    "test = setCabinCode(test)"
   ]
  },
  {
   "cell_type": "code",
   "execution_count": 44,
   "id": "30ac0a97",
   "metadata": {},
   "outputs": [
    {
     "data": {
      "image/png": "[encoded data removed]",
      "text/plain": [
       "<Figure size 432x288 with 1 Axes>"
      ]
     },
     "metadata": {
      "needs_background": "light"
     },
     "output_type": "display_data"
    }
   ],
   "source": [
    "sns.countplot(data=train, y='CabinCode').set(title='CabinCode Analysis')\n",
    "plt.show()"
   ]
  },
  {
   "cell_type": "code",
   "execution_count": 45,
   "id": "fda3e4a3",
   "metadata": {},
   "outputs": [
    {
     "data": {
      "image/png": "[encoded data removed]",
      "text/plain": [
       "<Figure size 432x288 with 1 Axes>"
      ]
     },
     "metadata": {
      "needs_background": "light"
     },
     "output_type": "display_data"
    }
   ],
   "source": [
    "sns.countplot(data=train, y='CabinCode', hue='Survived').set(title='CabinCode vs Survived')\n",
    "plt.show()"
   ]
  },
  {
   "cell_type": "markdown",
   "id": "15976701",
   "metadata": {},
   "source": [
    "Some correlations can be observed among same cabin series passengers in terms of survival but doesn't help much while making predictions.\n",
    "\n",
    "The high contrast in correlation shown between having a cabin or not and survival is already covered in CabinCount feature."
   ]
  },
  {
   "cell_type": "markdown",
   "id": "90dd97cb",
   "metadata": {},
   "source": [
    "# Removing unwanted features"
   ]
  },
  {
   "cell_type": "code",
   "execution_count": 46,
   "id": "3056e231",
   "metadata": {},
   "outputs": [
    {
     "name": "stdout",
     "output_type": "stream",
     "text": [
      "<class 'pandas.core.frame.DataFrame'>\n",
      "RangeIndex: 891 entries, 0 to 890\n",
      "Data columns (total 18 columns):\n",
      " #   Column       Non-Null Count  Dtype  \n",
      "---  ------       --------------  -----  \n",
      " 0   PassengerId  891 non-null    int64  \n",
      " 1   Survived     891 non-null    int64  \n",
      " 2   Pclass       891 non-null    int64  \n",
      " 3   Name         891 non-null    object \n",
      " 4   Sex          891 non-null    object \n",
      " 5   Age          891 non-null    float64\n",
      " 6   SibSp        891 non-null    int64  \n",
      " 7   Parch        891 non-null    int64  \n",
      " 8   Ticket       891 non-null    object \n",
      " 9   Fare         891 non-null    float64\n",
      " 10  Cabin        204 non-null    object \n",
      " 11  Embarked     889 non-null    object \n",
      " 12  FamilySize   891 non-null    int64  \n",
      " 13  SoloTravel   891 non-null    int64  \n",
      " 14  NameTitle    891 non-null    object \n",
      " 15  AgeBucket    891 non-null    object \n",
      " 16  CabinCount   891 non-null    int64  \n",
      " 17  CabinCode    891 non-null    object \n",
      "dtypes: float64(2), int64(8), object(8)\n",
      "memory usage: 125.4+ KB\n"
     ]
    }
   ],
   "source": [
    "train.info()"
   ]
  },
  {
   "cell_type": "code",
   "execution_count": 47,
   "id": "6ad81390",
   "metadata": {},
   "outputs": [],
   "source": [
    "# storing for future use while saving predictions\n",
    "passengerId = test.PassengerId\n",
    "\n",
    "def rmvfeatures(data):\n",
    "    drop_columns = ['PassengerId','Name','Ticket','Cabin','NameTitle','CabinCode']\n",
    "    data.drop(columns=drop_columns, inplace=True)\n",
    "    return data"
   ]
  },
  {
   "cell_type": "code",
   "execution_count": 48,
   "id": "18140098",
   "metadata": {},
   "outputs": [],
   "source": [
    "train = rmvfeatures(train)\n",
    "test = rmvfeatures(test)"
   ]
  },
  {
   "cell_type": "markdown",
   "id": "eaac595d",
   "metadata": {},
   "source": [
    "# Model Preparation"
   ]
  },
  {
   "cell_type": "code",
   "execution_count": 49,
   "id": "f864712d",
   "metadata": {},
   "outputs": [
    {
     "name": "stdout",
     "output_type": "stream",
     "text": [
      "<class 'pandas.core.frame.DataFrame'>\n",
      "RangeIndex: 891 entries, 0 to 890\n",
      "Data columns (total 12 columns):\n",
      " #   Column      Non-Null Count  Dtype  \n",
      "---  ------      --------------  -----  \n",
      " 0   Survived    891 non-null    int64  \n",
      " 1   Pclass      891 non-null    int64  \n",
      " 2   Sex         891 non-null    object \n",
      " 3   Age         891 non-null    float64\n",
      " 4   SibSp       891 non-null    int64  \n",
      " 5   Parch       891 non-null    int64  \n",
      " 6   Fare        891 non-null    float64\n",
      " 7   Embarked    889 non-null    object \n",
      " 8   FamilySize  891 non-null    int64  \n",
      " 9   SoloTravel  891 non-null    int64  \n",
      " 10  AgeBucket   891 non-null    object \n",
      " 11  CabinCount  891 non-null    int64  \n",
      "dtypes: float64(2), int64(7), object(3)\n",
      "memory usage: 83.7+ KB\n"
     ]
    }
   ],
   "source": [
    "train.info()"
   ]
  },
  {
   "cell_type": "code",
   "execution_count": 50,
   "id": "262ffe59",
   "metadata": {},
   "outputs": [
    {
     "name": "stdout",
     "output_type": "stream",
     "text": [
      "<class 'pandas.core.frame.DataFrame'>\n",
      "RangeIndex: 418 entries, 0 to 417\n",
      "Data columns (total 11 columns):\n",
      " #   Column      Non-Null Count  Dtype  \n",
      "---  ------      --------------  -----  \n",
      " 0   Pclass      418 non-null    int64  \n",
      " 1   Sex         418 non-null    object \n",
      " 2   Age         418 non-null    float64\n",
      " 3   SibSp       418 non-null    int64  \n",
      " 4   Parch       418 non-null    int64  \n",
      " 5   Fare        418 non-null    float64\n",
      " 6   Embarked    418 non-null    object \n",
      " 7   FamilySize  418 non-null    int64  \n",
      " 8   SoloTravel  418 non-null    int64  \n",
      " 9   AgeBucket   418 non-null    object \n",
      " 10  CabinCount  418 non-null    int64  \n",
      "dtypes: float64(2), int64(6), object(3)\n",
      "memory usage: 36.0+ KB\n"
     ]
    }
   ],
   "source": [
    "test.info()"
   ]
  },
  {
   "cell_type": "code",
   "execution_count": 51,
   "id": "8a2f5a69",
   "metadata": {},
   "outputs": [],
   "source": [
    "def categoricalhandle(data):\n",
    "    cate_cols = ['Pclass','Sex','Embarked','AgeBucket']\n",
    "    data = pd.get_dummies(data, columns=cate_cols)\n",
    "    return data"
   ]
  },
  {
   "cell_type": "code",
   "execution_count": 52,
   "id": "b33c4760",
   "metadata": {},
   "outputs": [],
   "source": [
    "train = categoricalhandle(train)\n",
    "test = categoricalhandle(test)"
   ]
  },
  {
   "cell_type": "code",
   "execution_count": 53,
   "id": "273d769e",
   "metadata": {},
   "outputs": [
    {
     "name": "stdout",
     "output_type": "stream",
     "text": [
      "Columns missing from test data:\n",
      " ['Survived']\n",
      "\n",
      "Columns missing from train data []\n"
     ]
    }
   ],
   "source": [
    "test_missing = list(set(train.columns)-set(test.columns))\n",
    "train_missing = list(set(test.columns)-set(train.columns))\n",
    "\n",
    "print('Columns missing from test data:\\n', test_missing)\n",
    "print('\\nColumns missing from train data', train_missing)"
   ]
  },
  {
   "cell_type": "code",
   "execution_count": 54,
   "id": "81935b15",
   "metadata": {},
   "outputs": [
    {
     "name": "stdout",
     "output_type": "stream",
     "text": [
      "<class 'pandas.core.frame.DataFrame'>\n",
      "RangeIndex: 418 entries, 0 to 417\n",
      "Data columns (total 18 columns):\n",
      " #   Column           Non-Null Count  Dtype  \n",
      "---  ------           --------------  -----  \n",
      " 0   Age              418 non-null    float64\n",
      " 1   SibSp            418 non-null    int64  \n",
      " 2   Parch            418 non-null    int64  \n",
      " 3   Fare             418 non-null    float64\n",
      " 4   FamilySize       418 non-null    int64  \n",
      " 5   SoloTravel       418 non-null    int64  \n",
      " 6   CabinCount       418 non-null    int64  \n",
      " 7   Pclass_1         418 non-null    uint8  \n",
      " 8   Pclass_2         418 non-null    uint8  \n",
      " 9   Pclass_3         418 non-null    uint8  \n",
      " 10  Sex_female       418 non-null    uint8  \n",
      " 11  Sex_male         418 non-null    uint8  \n",
      " 12  Embarked_C       418 non-null    uint8  \n",
      " 13  Embarked_Q       418 non-null    uint8  \n",
      " 14  Embarked_S       418 non-null    uint8  \n",
      " 15  AgeBucket_Adult  418 non-null    uint8  \n",
      " 16  AgeBucket_Child  418 non-null    uint8  \n",
      " 17  AgeBucket_Elder  418 non-null    uint8  \n",
      "dtypes: float64(2), int64(5), uint8(11)\n",
      "memory usage: 27.5 KB\n"
     ]
    }
   ],
   "source": [
    "test[test_missing] = 0\n",
    "test.drop(columns=train_missing, inplace=True)\n",
    "\n",
    "# Survived column should not be present\n",
    "test.drop(columns=['Survived'], inplace=True)\n",
    "\n",
    "test.info()"
   ]
  },
  {
   "cell_type": "markdown",
   "id": "4e0e7e5b",
   "metadata": {},
   "source": [
    "# Scaling"
   ]
  },
  {
   "cell_type": "code",
   "execution_count": 55,
   "id": "cb5d9fd5",
   "metadata": {},
   "outputs": [],
   "source": [
    "from sklearn.preprocessing import StandardScaler\n",
    "\n",
    "def scale(data):\n",
    "    scale_cols=['Age','SibSp','Parch','Fare']\n",
    "    data[scale_cols] = StandardScaler().fit_transform(data[scale_cols].values)\n",
    "    return data"
   ]
  },
  {
   "cell_type": "code",
   "execution_count": 56,
   "id": "ae82d1a3",
   "metadata": {},
   "outputs": [],
   "source": [
    "train = scale(train)\n",
    "test = scale(test)"
   ]
  },
  {
   "cell_type": "code",
   "execution_count": 57,
   "id": "105adc5e",
   "metadata": {},
   "outputs": [
    {
     "data": {
      "text/html": [
       "<div>\n",
       "<style scoped>\n",
       "    .dataframe tbody tr th:only-of-type {\n",
       "        vertical-align: middle;\n",
       "    }\n",
       "\n",
       "    .dataframe tbody tr th {\n",
       "        vertical-align: top;\n",
       "    }\n",
       "\n",
       "    .dataframe thead th {\n",
       "        text-align: right;\n",
       "    }\n",
       "</style>\n",
       "<table border=\"1\" class=\"dataframe\">\n",
       "  <thead>\n",
       "    <tr style=\"text-align: right;\">\n",
       "      <th></th>\n",
       "      <th>Age</th>\n",
       "      <th>SibSp</th>\n",
       "      <th>Parch</th>\n",
       "      <th>Fare</th>\n",
       "    </tr>\n",
       "  </thead>\n",
       "  <tbody>\n",
       "    <tr>\n",
       "      <th>0</th>\n",
       "      <td>-0.592481</td>\n",
       "      <td>0.432793</td>\n",
       "      <td>-0.473674</td>\n",
       "      <td>-0.502445</td>\n",
       "    </tr>\n",
       "    <tr>\n",
       "      <th>1</th>\n",
       "      <td>0.638789</td>\n",
       "      <td>0.432793</td>\n",
       "      <td>-0.473674</td>\n",
       "      <td>0.786845</td>\n",
       "    </tr>\n",
       "    <tr>\n",
       "      <th>2</th>\n",
       "      <td>-0.284663</td>\n",
       "      <td>-0.474545</td>\n",
       "      <td>-0.473674</td>\n",
       "      <td>-0.488854</td>\n",
       "    </tr>\n",
       "    <tr>\n",
       "      <th>3</th>\n",
       "      <td>0.407926</td>\n",
       "      <td>0.432793</td>\n",
       "      <td>-0.473674</td>\n",
       "      <td>0.420730</td>\n",
       "    </tr>\n",
       "    <tr>\n",
       "      <th>4</th>\n",
       "      <td>0.407926</td>\n",
       "      <td>-0.474545</td>\n",
       "      <td>-0.473674</td>\n",
       "      <td>-0.486337</td>\n",
       "    </tr>\n",
       "    <tr>\n",
       "      <th>...</th>\n",
       "      <td>...</td>\n",
       "      <td>...</td>\n",
       "      <td>...</td>\n",
       "      <td>...</td>\n",
       "    </tr>\n",
       "    <tr>\n",
       "      <th>886</th>\n",
       "      <td>-0.207709</td>\n",
       "      <td>-0.474545</td>\n",
       "      <td>-0.473674</td>\n",
       "      <td>-0.386671</td>\n",
       "    </tr>\n",
       "    <tr>\n",
       "      <th>887</th>\n",
       "      <td>-0.823344</td>\n",
       "      <td>-0.474545</td>\n",
       "      <td>-0.473674</td>\n",
       "      <td>-0.044381</td>\n",
       "    </tr>\n",
       "    <tr>\n",
       "      <th>888</th>\n",
       "      <td>0.000000</td>\n",
       "      <td>0.432793</td>\n",
       "      <td>2.008933</td>\n",
       "      <td>-0.176263</td>\n",
       "    </tr>\n",
       "    <tr>\n",
       "      <th>889</th>\n",
       "      <td>-0.284663</td>\n",
       "      <td>-0.474545</td>\n",
       "      <td>-0.473674</td>\n",
       "      <td>-0.044381</td>\n",
       "    </tr>\n",
       "    <tr>\n",
       "      <th>890</th>\n",
       "      <td>0.177063</td>\n",
       "      <td>-0.474545</td>\n",
       "      <td>-0.473674</td>\n",
       "      <td>-0.492378</td>\n",
       "    </tr>\n",
       "  </tbody>\n",
       "</table>\n",
       "<p>891 rows × 4 columns</p>\n",
       "</div>"
      ],
      "text/plain": [
       "          Age     SibSp     Parch      Fare\n",
       "0   -0.592481  0.432793 -0.473674 -0.502445\n",
       "1    0.638789  0.432793 -0.473674  0.786845\n",
       "2   -0.284663 -0.474545 -0.473674 -0.488854\n",
       "3    0.407926  0.432793 -0.473674  0.420730\n",
       "4    0.407926 -0.474545 -0.473674 -0.486337\n",
       "..        ...       ...       ...       ...\n",
       "886 -0.207709 -0.474545 -0.473674 -0.386671\n",
       "887 -0.823344 -0.474545 -0.473674 -0.044381\n",
       "888  0.000000  0.432793  2.008933 -0.176263\n",
       "889 -0.284663 -0.474545 -0.473674 -0.044381\n",
       "890  0.177063 -0.474545 -0.473674 -0.492378\n",
       "\n",
       "[891 rows x 4 columns]"
      ]
     },
     "execution_count": 57,
     "metadata": {},
     "output_type": "execute_result"
    }
   ],
   "source": [
    "train[['Age','SibSp','Parch','Fare']]"
   ]
  },
  {
   "cell_type": "markdown",
   "id": "16f4cc13",
   "metadata": {},
   "source": [
    "# Model Analysis"
   ]
  },
  {
   "cell_type": "code",
   "execution_count": 58,
   "id": "b58ac1dc",
   "metadata": {},
   "outputs": [],
   "source": [
    "from sklearn.model_selection import train_test_split\n",
    "\n",
    "X = train.drop(columns=['Survived'])\n",
    "y = train.Survived\n",
    "\n",
    "X_train, X_test, y_train, y_test = train_test_split(X, y, test_size=0.2, random_state=42)"
   ]
  },
  {
   "cell_type": "code",
   "execution_count": 59,
   "id": "f4bf5bf6",
   "metadata": {},
   "outputs": [],
   "source": [
    "from sklearn.ensemble import RandomForestClassifier\n",
    "\n",
    "rf = RandomForestClassifier(\n",
    "    criterion='gini',\n",
    "    n_estimators=1000,\n",
    "    min_samples_split=10,\n",
    "    min_samples_leaf=1,\n",
    "    max_features='auto',\n",
    "    oob_score=True,\n",
    "    random_state=42,\n",
    "    n_jobs=-1\n",
    ")\n",
    "rf.fit(X_train, y_train)\n",
    "pred = rf.predict(X_test)"
   ]
  },
  {
   "cell_type": "code",
   "execution_count": 60,
   "id": "adb6cf02",
   "metadata": {},
   "outputs": [
    {
     "data": {
      "text/plain": [
       "0.8212290502793296"
      ]
     },
     "execution_count": 60,
     "metadata": {},
     "output_type": "execute_result"
    }
   ],
   "source": [
    "from sklearn.metrics import accuracy_score\n",
    "\n",
    "accuracy_score(y_test, pred)"
   ]
  },
  {
   "cell_type": "markdown",
   "id": "95ac6470",
   "metadata": {},
   "source": [
    "# Model Implementation"
   ]
  },
  {
   "cell_type": "code",
   "execution_count": 61,
   "id": "360f3613",
   "metadata": {},
   "outputs": [],
   "source": [
    "X = train.drop(columns=['Survived'])\n",
    "y = train.Survived"
   ]
  },
  {
   "cell_type": "code",
   "execution_count": 62,
   "id": "425f7592",
   "metadata": {},
   "outputs": [],
   "source": [
    "rf = RandomForestClassifier(\n",
    "    criterion='gini',\n",
    "    n_estimators=1000,\n",
    "    min_samples_split=10,\n",
    "    min_samples_leaf=1,\n",
    "    max_features='auto',\n",
    "    oob_score=True,\n",
    "    random_state=42,\n",
    "    n_jobs=-1\n",
    ")\n",
    "rf.fit(X, y)\n",
    "pred = rf.predict(test)"
   ]
  },
  {
   "cell_type": "code",
   "execution_count": 63,
   "id": "64de5b7c",
   "metadata": {},
   "outputs": [
    {
     "data": {
      "text/plain": [
       "array([0, 0, 0, 0, 0, 0, 0, 0, 1, 0, 0, 0, 1, 0, 1, 1, 0, 0, 0, 1, 0, 1,\n",
       "       1, 0, 1, 0, 1, 0, 1, 0, 0, 0, 1, 0, 1, 0, 1, 0, 0, 1, 0, 0, 0, 1,\n",
       "       1, 0, 0, 0, 1, 0, 0, 0, 1, 1, 0, 0, 0, 0, 0, 1, 0, 0, 0, 0, 1, 1,\n",
       "       1, 0, 0, 1, 0, 0, 1, 0, 1, 0, 0, 1, 0, 0, 1, 0, 0, 0, 0, 0, 0, 1,\n",
       "       0, 1, 0, 0, 1, 0, 0, 0, 1, 0, 1, 0, 1, 0, 0, 0, 1, 0, 0, 0, 0, 0,\n",
       "       0, 0, 1, 0, 1, 0, 0, 1, 0, 1, 1, 0, 1, 0, 0, 1, 0, 1, 0, 0, 0, 0,\n",
       "       0, 0, 0, 0, 0, 0, 1, 0, 0, 1, 0, 0, 0, 0, 0, 0, 0, 0, 1, 0, 0, 1,\n",
       "       0, 0, 1, 1, 0, 1, 0, 1, 1, 0, 0, 1, 0, 0, 1, 0, 0, 0, 0, 0, 0, 1,\n",
       "       1, 1, 1, 1, 0, 1, 1, 0, 1, 0, 1, 0, 0, 0, 0, 0, 1, 0, 1, 0, 1, 1,\n",
       "       0, 0, 1, 1, 1, 1, 0, 0, 0, 0, 1, 0, 0, 0, 0, 1, 0, 0, 0, 0, 1, 0,\n",
       "       1, 0, 1, 0, 1, 0, 0, 0, 0, 0, 0, 1, 0, 0, 1, 0, 0, 0, 1, 1, 1, 1,\n",
       "       0, 0, 0, 0, 1, 0, 1, 0, 1, 0, 1, 0, 0, 0, 0, 0, 1, 0, 0, 0, 1, 1,\n",
       "       0, 0, 0, 0, 1, 0, 0, 0, 1, 1, 0, 1, 0, 0, 0, 0, 0, 1, 0, 1, 1, 0,\n",
       "       0, 0, 0, 0, 0, 0, 0, 0, 0, 0, 1, 0, 0, 0, 0, 0, 0, 0, 0, 1, 1, 1,\n",
       "       0, 0, 0, 0, 0, 0, 1, 1, 0, 0, 0, 0, 0, 0, 0, 0, 1, 0, 1, 0, 0, 0,\n",
       "       1, 1, 0, 0, 0, 0, 0, 0, 0, 0, 0, 0, 0, 1, 0, 1, 0, 1, 0, 1, 1, 0,\n",
       "       0, 0, 1, 0, 1, 0, 0, 0, 0, 1, 1, 0, 1, 0, 0, 0, 1, 0, 0, 1, 0, 0,\n",
       "       1, 1, 0, 0, 0, 0, 0, 0, 0, 0, 0, 1, 0, 0, 0, 0, 0, 1, 1, 0, 0, 1,\n",
       "       0, 1, 0, 0, 1, 0, 1, 0, 1, 0, 0, 0, 0, 1, 0, 1, 1, 0, 1, 0, 0, 0],\n",
       "      dtype=int64)"
      ]
     },
     "execution_count": 63,
     "metadata": {},
     "output_type": "execute_result"
    }
   ],
   "source": [
    "pred"
   ]
  },
  {
   "cell_type": "code",
   "execution_count": 64,
   "id": "e6a8b4fd",
   "metadata": {},
   "outputs": [
    {
     "name": "stdout",
     "output_type": "stream",
     "text": [
      "Predictions saved to submit.csv\n"
     ]
    }
   ],
   "source": [
    "submit = pd.DataFrame()\n",
    "submit['PassengerId'] = passengerId\n",
    "submit['Survived'] = pred\n",
    "\n",
    "submit.to_csv('submit.csv', index=False)\n",
    "print('Predictions saved to submit.csv')"
   ]
  },
  {
   "cell_type": "markdown",
   "id": "cb2ffee1",
   "metadata": {},
   "source": [
    "**Result**: My public score for this notebook was **0.79186** at the time of submission.\n",
    "\n",
    "This put me at **700/14364 (top 5%)** on the leaderboard."
   ]
  }
 ],
 "metadata": {
  "kernelspec": {
   "display_name": "Python 3 (ipykernel)",
   "language": "python",
   "name": "python3"
  },
  "language_info": {
   "codemirror_mode": {
    "name": "ipython",
    "version": 3
   },
   "file_extension": ".py",
   "mimetype": "text/x-python",
   "name": "python",
   "nbconvert_exporter": "python",
   "pygments_lexer": "ipython3",
   "version": "3.9.7"
  }
 },
 "nbformat": 4,
 "nbformat_minor": 5
}
